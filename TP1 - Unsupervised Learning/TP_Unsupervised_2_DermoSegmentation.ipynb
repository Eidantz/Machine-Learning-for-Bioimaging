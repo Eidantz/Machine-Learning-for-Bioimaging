{
  "nbformat": 4,
  "nbformat_minor": 0,
  "metadata": {
    "colab": {
      "name": "TP-Unsupervised-2-DermoSegmentation.ipynb",
      "provenance": [],
      "collapsed_sections": []
    },
    "kernelspec": {
      "name": "python3",
      "display_name": "Python 3"
    }
  },
  "cells": [
    {
      "cell_type": "markdown",
      "metadata": {
        "id": "wVabvi-IWGCH"
      },
      "source": [
        "# Skin lesion segmentation\n",
        "\n",
        "\n",
        "In this section, you will use the algorithm of k-means to segment skin lesion images. You will use two images from the ISIC dataset (www.isic-archive.com), one nevus and one melanoma with their respetive manual segmentation. \n",
        "\n",
        "## Goal\n",
        "The goal of this section is to delineate the contours (i.e. segment) of the skin lesions using k-means. \n",
        "\n",
        "Please complete the code where requested and answer all the questions\n",
        "\n",
        "\n"
      ]
    },
    {
      "cell_type": "markdown",
      "metadata": {
        "id": "BPoB-CtAZCx5"
      },
      "source": [
        "Let's first load the needed libraries"
      ]
    },
    {
      "cell_type": "code",
      "metadata": {
        "id": "KRU6bEjRQiPq"
      },
      "source": [
        "import numpy as np\n",
        "import numpy.matlib\n",
        "import matplotlib.pyplot as plt\n",
        "plt.close('all')\n",
        "\n",
        "from skimage.io import imread\n",
        "from skimage.transform import resize\n",
        "from skimage.transform import rescale\n",
        "from skimage import img_as_bool\n",
        "from mpl_toolkits.axes_grid1 import AxesGrid\n",
        "from sklearn.cluster import KMeans\n",
        "from scipy.spatial.distance import dice\n",
        "from skimage.measure import find_contours"
      ],
      "execution_count": null,
      "outputs": []
    },
    {
      "cell_type": "markdown",
      "metadata": {
        "id": "ey88fynIZE6J"
      },
      "source": [
        "Let's load the data"
      ]
    },
    {
      "cell_type": "code",
      "metadata": {
        "id": "3rFTFfDaRkjn"
      },
      "source": [
        "if 'google.colab' in str(get_ipython()):\n",
        "  from google_drive_downloader import GoogleDriveDownloader as gdd\n",
        "  gdd.download_file_from_google_drive(file_id='1_TeYzLLDoKbPX4xXAOAM_mQiT2nLHgvp',\n",
        "  dest_path='./data/nevus.jpg')\n",
        "  gdd.download_file_from_google_drive(file_id='1iQZdUiuK_FwZ7mik7LB3eN_H_IUc5l7b',\n",
        "  dest_path='./data/nevus-seg.jpg')\n",
        "  gdd.download_file_from_google_drive(file_id='1yZ46UzGhwO7g5T8397JpewBl6UqgRo5J',\n",
        "  dest_path='./data/melanoma.jpg')\n",
        "  gdd.download_file_from_google_drive(file_id='1B2Ol92mBcHN6ah3bpoucBbBbHkPMGC8D',\n",
        "  dest_path='./data/melanoma-seg.jpg')\n",
        "else:\n",
        "  print('You are not using Colab. Please define working_dir with the absolute path to the folder where you downloaded the data')\n",
        "\n",
        "# Please modify working_dir only if you are using your Anaconda (and not Google Colab)\n",
        "Working_directory=\"./data/\" "
      ],
      "execution_count": null,
      "outputs": []
    },
    {
      "cell_type": "markdown",
      "metadata": {
        "id": "c4NNHOJdZHDT"
      },
      "source": [
        "Let's load the images, rescale them so that the computations are faster and plot them"
      ]
    },
    {
      "cell_type": "code",
      "metadata": {
        "id": "jEISnv0XSJ4N"
      },
      "source": [
        "# Nevus\n",
        "nevus = imread(Working_directory + 'nevus.jpg')\n",
        "nevus=nevus[2:-2,2:-2,:] # remove border (it contains artifacts)\n",
        "nevusMask = imread(Working_directory + 'nevus-seg.jpg')\n",
        "nevusMask=nevusMask[2:-2,2:-2] # remove border (it contains artifacts)\n",
        "# We rescale to speed up computations\n",
        "nevus = rescale(nevus, 0.25,multichannel=True, anti_aliasing=True)\n",
        "# We need all these options to preserve the binary values\n",
        "nevusMask = rescale(nevusMask, 0.25, anti_aliasing=False, order=0,  preserve_range=True)\n",
        "nevusMask_boolean = (nevusMask/255).astype(np.uint8) # To get uint8\n",
        "nevusMask_expand = np.expand_dims(nevusMask_boolean, axis=2) # To have a 3 channels boolean mask\n",
        "\n",
        "# Melanoma\n",
        "melanoma = imread(Working_directory + 'melanoma.jpg')\n",
        "melanoma=melanoma[2:-2,2:-2,:] # remove border (it contains artifacts)\n",
        "melanomaMask = imread(Working_directory + 'melanoma-seg.jpg')\n",
        "melanomaMask=melanomaMask[2:-2,2:-2] # remove border (it contains artifacts)\n",
        "melanoma = rescale(melanoma, 0.25,multichannel=True, anti_aliasing=True)\n",
        "melanomaMask = rescale(melanomaMask, 0.25, anti_aliasing=False, order=0,  preserve_range=True)\n",
        "melanomaMask_boolean = (melanomaMask/255).astype(np.uint8) \n",
        "melanomaMask_expand = np.expand_dims(melanomaMask_boolean, axis=2)\n",
        "\n",
        "fig = plt.figure(figsize=(12, 12))\n",
        "grid = AxesGrid(fig, 111,\n",
        "                nrows_ncols = (2, 3),\n",
        "                axes_pad = 0.5)\n",
        "grid[0].imshow(nevus)\n",
        "grid[0].set_title('Nevus')\n",
        "grid[0].axis('off')\n",
        "grid[1].imshow(nevusMask_boolean,cmap='gray')\n",
        "grid[1].set_title('Nevus segmentation mask')\n",
        "grid[1].axis('off')\n",
        "grid[2].imshow(nevusMask_expand*nevus)\n",
        "grid[2].set_title('Nevus with segmentation')\n",
        "grid[2].axis('off')\n",
        "grid[3].imshow(melanoma)\n",
        "grid[3].set_title('Melanoma')\n",
        "grid[3].axis('off')\n",
        "grid[4].imshow(melanomaMask_boolean,cmap='gray')\n",
        "grid[4].set_title('Melanoma segmentation mask')\n",
        "grid[4].axis('off')\n",
        "grid[5].imshow(melanomaMask_expand*melanoma)\n",
        "grid[5].set_title('Melanoma with segmentation')\n",
        "grid[5].axis('off')\n"
      ],
      "execution_count": null,
      "outputs": []
    },
    {
      "cell_type": "markdown",
      "metadata": {
        "id": "BkLlzlhYY4H-"
      },
      "source": [
        "**Questions**\n",
        "\n",
        "1. (IMP+IMH) Before running K-means, please answer this question. How many classes $K$ should you look for ? Would you use the same $K$ for both images ? Why ?\n",
        "\n",
        "2. (IMP+IMH) Run the following code for both images. Try to choose different channels (among the channels Red, Green and Blue) and different number of clusters $K$. Which is the best choice in terms of channel and number of classes ? You can use the [Dice score](https://en.wikipedia.org/wiki/S%C3%B8rensen%E2%80%93Dice_coefficient) to quantitatively compare your mask and the manual segmentation. Comment the results with respect to the previous answer.\n",
        "\n",
        "3. (IMP+IMH) Propose a way to automatically select the class (or unions of classes) representing the skin lesion and not the skin. (You don't need to implement it, just explain how you would do it).\n",
        "\n",
        "4. (IMP) In K-means we recompute the average at each iteration. The average is not constrained to be one of the original observations. It is usually an *interpolation* of the original observations. How would you change the Lloyd's algorithm to constrain the average to always be one of the original observations ?\n",
        "\n",
        "5. (IMP - Optional) Code the Lloyd's algorithm for K-Means and compare it with the version of scikit-learn."
      ]
    },
    {
      "cell_type": "markdown",
      "metadata": {
        "id": "Lg4FKt-zbMes"
      },
      "source": [
        "The dice score (or dice similarity) between two binary masks is defined as $\\frac{2TP}{2TP + FP + FN}$ and it ranges between 0 (completely different) and 1 (perfectly equal)."
      ]
    },
    {
      "cell_type": "code",
      "metadata": {
        "id": "QYaZXQneSlsg"
      },
      "source": [
        "## NEVUS\n",
        "# Select a channel (0 for Red, 1 for Green and 2 for Blue)\n",
        "channel=0\n",
        "##\n",
        "nevusB = nevus[:,:,channel] \n",
        "\n",
        "# Select the number of cluster K to look for \n",
        "K= 2 # choose a number of clusters\n",
        "##\n",
        "kmeans=KMeans(n_clusters=K, random_state=1) \n",
        "labels=kmeans.fit_predict(nevusB.reshape(-1,1))\n",
        "labels=np.reshape(labels,(nevusB.shape[0],nevusB.shape[1]))\n",
        "\n",
        "# Depending on the number of classes K, K-means returns one integer per pixel \n",
        "# which indicates the number of the cluster. \n",
        "# Choose the integer to use as mask between 0 and K-1\n",
        "index =1\n",
        "mask=labels==index ## choose which label should be\n",
        "\n",
        "contourMask = find_contours(mask, 0.5)\n",
        "contourManual = find_contours(nevusMask_boolean, 0.5)\n",
        "\n",
        "# plot the results\n",
        "fig = plt.figure(figsize=(16, 12))\n",
        "grid = AxesGrid(fig, 111,\n",
        "                nrows_ncols = (1, 5),\n",
        "                axes_pad = 0.5)\n",
        "grid[0].imshow(nevusB,cmap='gray')\n",
        "grid[0].set_title('Nevus - selected channel')\n",
        "grid[0].axis('off')\n",
        "grid[1].imshow(labels,cmap='coolwarm')\n",
        "grid[1].set_title('Nevus K-means result')\n",
        "grid[1].axis('off')\n",
        "grid[2].imshow(mask*nevusB,cmap='gray')\n",
        "grid[2].set_title('Nevus with\\n chosen segmentation')\n",
        "grid[2].axis('off')\n",
        "grid[3].imshow(nevusMask_boolean*nevusB,cmap='gray')\n",
        "grid[3].set_title('Nevus with\\n manual segmentation')\n",
        "grid[3].axis('off')\n",
        "grid[4].imshow(nevus)\n",
        "for contour in contourMask:\n",
        "  grid[4].plot(contour[:, 1], contour[:, 0], linewidth=2, c='r')\n",
        "for contour in contourManual:\n",
        "  grid[4].plot(contour[:, 1], contour[:, 0], linewidth=2, c='g')\n",
        "grid[4].set_title('Green manual\\n Red K-means')\n",
        "grid[4].axis('off')\n",
        "\n",
        "# Compute the dice score between your mask and the manual segmentation \n",
        "print('The dice score is ', 1-dice(nevusMask_boolean.reshape(1,-1), mask.reshape(1,-1)))"
      ],
      "execution_count": null,
      "outputs": []
    },
    {
      "cell_type": "code",
      "metadata": {
        "id": "MTt9L9DMgBtL"
      },
      "source": [
        "## MELANOMA\n",
        "# Select a channel (0 for Red, 1 for Green and 2 for Blue)\n",
        "channel=0\n",
        "##\n",
        "melanomaB = melanoma[:,:,channel]\n",
        "\n",
        "# Select the number of cluster K to look for \n",
        "K= 2 # choose a number of clusters\n",
        "##\n",
        "kmeans=KMeans(n_clusters=K) \n",
        "labels=kmeans.fit_predict(melanomaB.reshape(-1,1))\n",
        "labels=np.reshape(labels,(melanomaB.shape[0],melanomaB.shape[1]))\n",
        "\n",
        "# Depending on the number of classes K, K-means returns one integer per pixel \n",
        "# which indicates the number of the cluster. \n",
        "# Choose the integer to use as mask between 0 and K-1\n",
        "index =1\n",
        "mask=labels==index ## choose which label should be\n",
        "\n",
        "contourMask = find_contours(mask, 0.5)\n",
        "contourManual = find_contours(melanomaMask_boolean, 0.5)\n",
        "\n",
        "fig = plt.figure(figsize=(16, 12))\n",
        "grid = AxesGrid(fig, 111,\n",
        "                nrows_ncols = (1, 5),\n",
        "                axes_pad = 0.5)\n",
        "grid[0].imshow(melanomaB,cmap='gray')\n",
        "grid[0].set_title('Melanoma - selected channel')\n",
        "grid[0].axis('off')\n",
        "grid[1].imshow(labels,cmap='coolwarm')\n",
        "grid[1].set_title('Melanoma K-means result')\n",
        "grid[1].axis('off')\n",
        "grid[2].imshow(mask*melanomaB,cmap='gray')\n",
        "grid[2].set_title('Melanoma with chosen segmentation')\n",
        "grid[2].axis('off')\n",
        "grid[3].imshow(melanomaMask_boolean*melanomaB,cmap='gray')\n",
        "grid[3].set_title('Melanoma with\\n manual segmentation')\n",
        "grid[3].axis('off')\n",
        "grid[4].imshow(melanoma)\n",
        "for contour in contourMask:\n",
        "  grid[4].plot(contour[:, 1], contour[:, 0], linewidth=2, c='r')\n",
        "for contour in contourManual:\n",
        "  grid[4].plot(contour[:, 1], contour[:, 0], linewidth=2, c='g')\n",
        "grid[4].set_title('Green manual\\n Red K-means')\n",
        "grid[4].axis('off')\n",
        "\n",
        "print('The dice score is ', 1-dice(melanomaMask_boolean.reshape(1,-1), mask.reshape(1,-1)))"
      ],
      "execution_count": null,
      "outputs": []
    },
    {
      "cell_type": "code",
      "metadata": {
        "id": "CE8nlcIQh-fm"
      },
      "source": [
        "## (IMP - Optional)\n",
        "def KMeansLectue(X):\n",
        "  XXXXXXXX\n",
        "  return XXXXX"
      ],
      "execution_count": null,
      "outputs": []
    }
  ]
}