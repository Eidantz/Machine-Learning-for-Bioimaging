{
 "cells": [
  {
   "cell_type": "markdown",
   "metadata": {
    "id": "9q-hbDzPUwCG"
   },
   "source": [
    "# **Lab session 1**\n",
    "\n",
    "This is the work of Eidan Tzdaka and Alexandre Amiot\n",
    "\n",
    "## **Exercise 2 : Recognition of hand-written characters from the scikit-learn database using a perceptron**\n",
    "\n",
    "In this exercise you are to implement a simple hand-written digit classifier based on a perceptron (no convolutional networks). \n",
    "\n",
    "**This assignment contains examples of results you should reproduce with your code.**"
   ]
  },
  {
   "cell_type": "markdown",
   "metadata": {
    "id": "6D6DiDqBmnW5"
   },
   "source": [
    "Import the **MNIST** dataset of the digits from scikit-learn\n",
    "\n",
    "from sklearn import datasets\n",
    "\n",
    "digits = datasets.load_digits()"
   ]
  },
  {
   "cell_type": "code",
   "execution_count": 1,
   "metadata": {
    "id": "VjCvN9Rk0De2"
   },
   "outputs": [],
   "source": [
    "# Import necessary libraries\n",
    "import matplotlib.pyplot as plt\n",
    "import numpy as np\n",
    "\n",
    "# Import the dataset of the digits from scikit-learn\n",
    "\n",
    "from sklearn import datasets\n",
    "digits = datasets.load_digits()\n"
   ]
  },
  {
   "cell_type": "markdown",
   "metadata": {
    "id": "VWYdMblA07og"
   },
   "source": [
    "The data we are interested in are 8x8 images of digits. They are stored in the `images` attribute of the dataset. \n",
    "\n",
    "Have a look at the data and the classes: \n",
    "\n",
    "1.   For every image, we know which digit it represents. It is the  'target' of the dataset.\n",
    "2.   Show the first 10 images and their target.\n",
    "\n"
   ]
  },
  {
   "cell_type": "code",
   "execution_count": 2,
   "metadata": {
    "colab": {
     "base_uri": "https://localhost:8080/",
     "height": 223
    },
    "id": "QSxjoJLH0De6",
    "outputId": "e3895643-313a-4882-eef0-9f258a1a8665"
   },
   "outputs": [
    {
     "data": {
      "image/png": "[encoded data removed]",
      "text/plain": [
       "<Figure size 432x288 with 10 Axes>"
      ]
     },
     "metadata": {
      "needs_background": "light",
      "tags": []
     },
     "output_type": "display_data"
    }
   ],
   "source": [
    "images_and_labels = list(zip(digits.images, digits.target))\n",
    "for index, (image, label) in enumerate(images_and_labels[:10]):\n",
    "  plt.subplot(2, 5, index + 1)\n",
    "  plt.axis('off')\n",
    "  plt.imshow(image, cmap=plt.cm.gray_r)\n",
    "  plt.title('%i' % label)"
   ]
  },
  {
   "cell_type": "markdown",
   "metadata": {
    "id": "vaYdBnY-1rOT"
   },
   "source": [
    "To apply a perceptron classifier on this data, we will not use 8x8 images but the vectorized version stored in digits.data.\n",
    "\n",
    "1. How many images do we have in the dataset?\n",
    "2. How many classes do we have in the dataset?\n",
    "3. What is the size of the vector representing the flattened version of the images?\n",
    "\n",
    "1, The digit dataset is made of 1797 8x8 images\n",
    "\n",
    "2, We have 10 classes in this dataset\n",
    "\n",
    "3, The size of the vector representing the flattened version of the image is 10."
   ]
  },
  {
   "cell_type": "code",
   "execution_count": 3,
   "metadata": {
    "colab": {
     "base_uri": "https://localhost:8080/",
     "height": 0
    },
    "id": "VQuyeiuf0DfA",
    "outputId": "271a9bcb-105e-4c37-dc34-d279995148fe"
   },
   "outputs": [
    {
     "name": "stdout",
     "output_type": "stream",
     "text": [
      "(1797, 64)\n"
     ]
    }
   ],
   "source": [
    " print (digits.data.shape)\n"
   ]
  },
  {
   "cell_type": "markdown",
   "metadata": {
    "id": "k-78Jvlx2TJd"
   },
   "source": [
    "How many classes do we have? "
   ]
  },
  {
   "cell_type": "code",
   "execution_count": 4,
   "metadata": {
    "colab": {
     "base_uri": "https://localhost:8080/",
     "height": 0
    },
    "id": "rf91J_2b2_sv",
    "outputId": "5893edeb-8064-4807-db3a-dab66d71191c"
   },
   "outputs": [
    {
     "name": "stdout",
     "output_type": "stream",
     "text": [
      "We have a total of 10 classes.\n"
     ]
    }
   ],
   "source": [
    "n_classes = len(np.unique(digits.target))\n",
    "print (\"We have a total of %d classes.\"%n_classes)"
   ]
  },
  {
   "cell_type": "markdown",
   "metadata": {
    "id": "0Z_Spag63LcS"
   },
   "source": [
    "Convert the target into the matrix 'y' in one-hot format.\n",
    "This will allow the predictors output one at a time using the soft-max activation. What is the shape of the 'y' matrix. Use the keras function **utils.to_categorical()**."
   ]
  },
  {
   "cell_type": "code",
   "execution_count": 5,
   "metadata": {
    "colab": {
     "base_uri": "https://localhost:8080/",
     "height": 0
    },
    "id": "zGSFqYtw0DfE",
    "outputId": "675fb907-fd95-4db8-b2b4-ddd3d1d29cd3"
   },
   "outputs": [
    {
     "name": "stdout",
     "output_type": "stream",
     "text": [
      "(1797, 10)\n"
     ]
    }
   ],
   "source": [
    "from tensorflow import keras\n",
    "y = keras.utils.to_categorical(digits.target, n_classes)\n",
    "print (y.shape)"
   ]
  },
  {
   "cell_type": "markdown",
   "metadata": {
    "id": "3QWG61q33iVh"
   },
   "source": [
    "## Prepare the train and test dataset.\n",
    "\n",
    "1.   split dataset into test and train dataset.\n",
    "2.   split further the train dataset into train and validation part\n",
    "Use the **keras.model_selection** function **train_test_split()** to separate a dataset. You can choose the percentage of the split, or leave the defaut value."
   ]
  },
  {
   "cell_type": "code",
   "execution_count": 6,
   "metadata": {
    "id": "GY1FFbNP0DfI"
   },
   "outputs": [],
   "source": [
    "from sklearn.model_selection import train_test_split\n",
    "X_train, X_test, y_train, y_test = train_test_split(digits.data, y)\n",
    "X_train, X_val, y_train, y_val = train_test_split(X_train, y_train)"
   ]
  },
  {
   "cell_type": "markdown",
   "metadata": {
    "id": "TTgyr6h44F5a"
   },
   "source": [
    "## create the sequential model\n",
    "\n",
    "1.   The model will the keras sequential model containing the one-layer perceptron. \n",
    "Instantiate the model using **model=Sequential()**, then add a **Dense()** layer from **keras.layers**. Adding layers can be done using the model's class function **model.add()**.\n",
    "Specify the input shape, and the number of classes to output. What kind of activation will you use?\n",
    "\n",
    "We will use the softmax activation because the classification is for non binary data, we have more than 2 classes.\n",
    "\n",
    "2.   Compile the model. Specify the loss. Choose an optimizer and the evaluation metrics to use. Use the class function **compile()** of the sequential model you have created.\n",
    "\n"
   ]
  },
  {
   "cell_type": "code",
   "execution_count": 20,
   "metadata": {
    "id": "2hX3OI7v0DfM"
   },
   "outputs": [],
   "source": [
    "from keras.models import Sequential\n",
    "from keras.layers import Dense\n",
    "model = Sequential()\n",
    "model.add(Dense(n_classes, input_shape=digits.data[0].shape,activation='softmax'))\n",
    "model.compile(loss='categorical_crossentropy', optimizer='adam',metrics=['accuracy'])\n"
   ]
  },
  {
   "cell_type": "markdown",
   "metadata": {
    "id": "92xBrTgg440r"
   },
   "source": [
    "## train the model\n",
    "\n",
    "You need to specify the size of the batch and the number of epochs to train. You need to provide the training and the validation data.\n",
    "\n",
    "Use the sequential model's class function **fit()** to train the model."
   ]
  },
  {
   "cell_type": "code",
   "execution_count": 21,
   "metadata": {
    "colab": {
     "base_uri": "https://localhost:8080/",
     "height": 0
    },
    "id": "DLytVrr80DfQ",
    "outputId": "38cef680-1420-4a15-89ef-db2fa419ce65"
   },
   "outputs": [
    {
     "name": "stdout",
     "output_type": "stream",
     "text": [
      "Epoch 1/100\n",
      "8/8 [==============================] - 0s 24ms/step - loss: 11.7768 - accuracy: 0.0545 - val_loss: 10.9982 - val_accuracy: 0.0623\n",
      "Epoch 2/100\n",
      "8/8 [==============================] - 0s 8ms/step - loss: 9.9951 - accuracy: 0.0820 - val_loss: 8.9683 - val_accuracy: 0.0801\n",
      "Epoch 3/100\n",
      "8/8 [==============================] - 0s 8ms/step - loss: 7.8336 - accuracy: 0.1282 - val_loss: 7.4401 - val_accuracy: 0.1276\n",
      "Epoch 4/100\n",
      "8/8 [==============================] - 0s 7ms/step - loss: 6.8988 - accuracy: 0.1558 - val_loss: 6.3607 - val_accuracy: 0.1751\n",
      "Epoch 5/100\n",
      "8/8 [==============================] - 0s 6ms/step - loss: 5.8279 - accuracy: 0.1802 - val_loss: 5.5526 - val_accuracy: 0.1958\n",
      "Epoch 6/100\n",
      "8/8 [==============================] - 0s 7ms/step - loss: 5.1524 - accuracy: 0.2061 - val_loss: 4.9622 - val_accuracy: 0.1929\n",
      "Epoch 7/100\n",
      "8/8 [==============================] - 0s 7ms/step - loss: 4.6168 - accuracy: 0.2448 - val_loss: 4.4854 - val_accuracy: 0.2136\n",
      "Epoch 8/100\n",
      "8/8 [==============================] - 0s 7ms/step - loss: 4.1475 - accuracy: 0.2757 - val_loss: 4.0151 - val_accuracy: 0.2493\n",
      "Epoch 9/100\n",
      "8/8 [==============================] - 0s 7ms/step - loss: 3.7091 - accuracy: 0.3225 - val_loss: 3.5900 - val_accuracy: 0.2997\n",
      "Epoch 10/100\n",
      "8/8 [==============================] - 0s 7ms/step - loss: 3.2847 - accuracy: 0.3390 - val_loss: 3.1862 - val_accuracy: 0.3294\n",
      "Epoch 11/100\n",
      "8/8 [==============================] - 0s 6ms/step - loss: 2.8885 - accuracy: 0.3888 - val_loss: 2.8350 - val_accuracy: 0.3739\n",
      "Epoch 12/100\n",
      "8/8 [==============================] - 0s 7ms/step - loss: 2.6905 - accuracy: 0.3915 - val_loss: 2.5465 - val_accuracy: 0.3976\n",
      "Epoch 13/100\n",
      "8/8 [==============================] - 0s 8ms/step - loss: 2.4857 - accuracy: 0.4210 - val_loss: 2.3173 - val_accuracy: 0.4273\n",
      "Epoch 14/100\n",
      "8/8 [==============================] - 0s 7ms/step - loss: 2.1444 - accuracy: 0.4811 - val_loss: 2.1089 - val_accuracy: 0.4718\n",
      "Epoch 15/100\n",
      "8/8 [==============================] - 0s 8ms/step - loss: 1.9148 - accuracy: 0.5111 - val_loss: 1.9192 - val_accuracy: 0.4955\n",
      "Epoch 16/100\n",
      "8/8 [==============================] - 0s 7ms/step - loss: 1.7190 - accuracy: 0.5727 - val_loss: 1.7580 - val_accuracy: 0.5282\n",
      "Epoch 17/100\n",
      "8/8 [==============================] - 0s 7ms/step - loss: 1.6903 - accuracy: 0.5543 - val_loss: 1.6159 - val_accuracy: 0.5786\n",
      "Epoch 18/100\n",
      "8/8 [==============================] - 0s 6ms/step - loss: 1.5453 - accuracy: 0.6109 - val_loss: 1.5010 - val_accuracy: 0.6113\n",
      "Epoch 19/100\n",
      "8/8 [==============================] - 0s 7ms/step - loss: 1.4278 - accuracy: 0.6470 - val_loss: 1.3990 - val_accuracy: 0.6320\n",
      "Epoch 20/100\n",
      "8/8 [==============================] - 0s 7ms/step - loss: 1.3211 - accuracy: 0.6738 - val_loss: 1.3024 - val_accuracy: 0.6409\n",
      "Epoch 21/100\n",
      "8/8 [==============================] - 0s 7ms/step - loss: 1.2941 - accuracy: 0.6976 - val_loss: 1.2320 - val_accuracy: 0.6588\n",
      "Epoch 22/100\n",
      "8/8 [==============================] - 0s 7ms/step - loss: 1.1778 - accuracy: 0.7110 - val_loss: 1.1630 - val_accuracy: 0.6795\n",
      "Epoch 23/100\n",
      "8/8 [==============================] - 0s 7ms/step - loss: 1.1424 - accuracy: 0.7256 - val_loss: 1.0990 - val_accuracy: 0.6884\n",
      "Epoch 24/100\n",
      "8/8 [==============================] - 0s 7ms/step - loss: 1.1159 - accuracy: 0.7211 - val_loss: 1.0407 - val_accuracy: 0.7122\n",
      "Epoch 25/100\n",
      "8/8 [==============================] - 0s 7ms/step - loss: 1.0003 - accuracy: 0.7449 - val_loss: 0.9866 - val_accuracy: 0.7151\n",
      "Epoch 26/100\n",
      "8/8 [==============================] - 0s 7ms/step - loss: 0.9332 - accuracy: 0.7515 - val_loss: 0.9391 - val_accuracy: 0.7181\n",
      "Epoch 27/100\n",
      "8/8 [==============================] - 0s 7ms/step - loss: 0.9365 - accuracy: 0.7486 - val_loss: 0.8992 - val_accuracy: 0.7270\n",
      "Epoch 28/100\n",
      "8/8 [==============================] - 0s 6ms/step - loss: 0.9077 - accuracy: 0.7595 - val_loss: 0.8553 - val_accuracy: 0.7329\n",
      "Epoch 29/100\n",
      "8/8 [==============================] - 0s 7ms/step - loss: 0.9509 - accuracy: 0.7627 - val_loss: 0.8200 - val_accuracy: 0.7389\n",
      "Epoch 30/100\n",
      "8/8 [==============================] - 0s 6ms/step - loss: 0.8613 - accuracy: 0.7700 - val_loss: 0.7845 - val_accuracy: 0.7507\n",
      "Epoch 31/100\n",
      "8/8 [==============================] - 0s 6ms/step - loss: 0.7730 - accuracy: 0.7844 - val_loss: 0.7526 - val_accuracy: 0.7596\n",
      "Epoch 32/100\n",
      "8/8 [==============================] - 0s 7ms/step - loss: 0.7778 - accuracy: 0.8036 - val_loss: 0.7210 - val_accuracy: 0.7804\n",
      "Epoch 33/100\n",
      "8/8 [==============================] - 0s 6ms/step - loss: 0.7517 - accuracy: 0.7985 - val_loss: 0.6959 - val_accuracy: 0.7745\n",
      "Epoch 34/100\n",
      "8/8 [==============================] - 0s 6ms/step - loss: 0.7101 - accuracy: 0.8121 - val_loss: 0.6652 - val_accuracy: 0.7923\n",
      "Epoch 35/100\n",
      "8/8 [==============================] - 0s 6ms/step - loss: 0.6353 - accuracy: 0.8279 - val_loss: 0.6435 - val_accuracy: 0.7982\n",
      "Epoch 36/100\n",
      "8/8 [==============================] - 0s 20ms/step - loss: 0.6136 - accuracy: 0.8319 - val_loss: 0.6169 - val_accuracy: 0.8042\n",
      "Epoch 37/100\n",
      "8/8 [==============================] - 0s 8ms/step - loss: 0.5601 - accuracy: 0.8538 - val_loss: 0.5927 - val_accuracy: 0.8101\n",
      "Epoch 38/100\n",
      "8/8 [==============================] - 0s 6ms/step - loss: 0.6159 - accuracy: 0.8398 - val_loss: 0.5768 - val_accuracy: 0.8071\n",
      "Epoch 39/100\n",
      "8/8 [==============================] - 0s 6ms/step - loss: 0.6109 - accuracy: 0.8314 - val_loss: 0.5538 - val_accuracy: 0.8160\n",
      "Epoch 40/100\n",
      "8/8 [==============================] - 0s 6ms/step - loss: 0.6802 - accuracy: 0.8279 - val_loss: 0.5359 - val_accuracy: 0.8249\n",
      "Epoch 41/100\n",
      "8/8 [==============================] - 0s 6ms/step - loss: 0.5304 - accuracy: 0.8615 - val_loss: 0.5203 - val_accuracy: 0.8279\n",
      "Epoch 42/100\n",
      "8/8 [==============================] - 0s 6ms/step - loss: 0.6016 - accuracy: 0.8402 - val_loss: 0.5018 - val_accuracy: 0.8279\n",
      "Epoch 43/100\n",
      "8/8 [==============================] - 0s 6ms/step - loss: 0.5242 - accuracy: 0.8675 - val_loss: 0.4871 - val_accuracy: 0.8338\n",
      "Epoch 44/100\n",
      "8/8 [==============================] - 0s 6ms/step - loss: 0.5046 - accuracy: 0.8642 - val_loss: 0.4675 - val_accuracy: 0.8457\n",
      "Epoch 45/100\n",
      "8/8 [==============================] - 0s 6ms/step - loss: 0.5613 - accuracy: 0.8477 - val_loss: 0.4550 - val_accuracy: 0.8516\n",
      "Epoch 46/100\n",
      "8/8 [==============================] - 0s 6ms/step - loss: 0.5152 - accuracy: 0.8611 - val_loss: 0.4442 - val_accuracy: 0.8576\n",
      "Epoch 47/100\n",
      "8/8 [==============================] - 0s 7ms/step - loss: 0.4926 - accuracy: 0.8554 - val_loss: 0.4359 - val_accuracy: 0.8576\n",
      "Epoch 48/100\n",
      "8/8 [==============================] - 0s 7ms/step - loss: 0.4498 - accuracy: 0.8712 - val_loss: 0.4240 - val_accuracy: 0.8635\n",
      "Epoch 49/100\n",
      "8/8 [==============================] - 0s 7ms/step - loss: 0.4643 - accuracy: 0.8664 - val_loss: 0.4100 - val_accuracy: 0.8665\n",
      "Epoch 50/100\n",
      "8/8 [==============================] - 0s 6ms/step - loss: 0.4394 - accuracy: 0.8825 - val_loss: 0.3994 - val_accuracy: 0.8694\n",
      "Epoch 51/100\n",
      "8/8 [==============================] - 0s 6ms/step - loss: 0.4123 - accuracy: 0.8794 - val_loss: 0.3882 - val_accuracy: 0.8783\n",
      "Epoch 52/100\n",
      "8/8 [==============================] - 0s 7ms/step - loss: 0.4379 - accuracy: 0.8868 - val_loss: 0.3793 - val_accuracy: 0.8754\n",
      "Epoch 53/100\n",
      "8/8 [==============================] - 0s 7ms/step - loss: 0.3335 - accuracy: 0.9010 - val_loss: 0.3713 - val_accuracy: 0.8813\n",
      "Epoch 54/100\n",
      "8/8 [==============================] - 0s 6ms/step - loss: 0.3500 - accuracy: 0.8942 - val_loss: 0.3620 - val_accuracy: 0.8843\n",
      "Epoch 55/100\n",
      "8/8 [==============================] - 0s 6ms/step - loss: 0.3749 - accuracy: 0.8889 - val_loss: 0.3532 - val_accuracy: 0.8813\n",
      "Epoch 56/100\n",
      "8/8 [==============================] - 0s 9ms/step - loss: 0.3826 - accuracy: 0.8879 - val_loss: 0.3469 - val_accuracy: 0.8843\n",
      "Epoch 57/100\n",
      "8/8 [==============================] - 0s 6ms/step - loss: 0.3828 - accuracy: 0.8958 - val_loss: 0.3431 - val_accuracy: 0.8843\n",
      "Epoch 58/100\n",
      "8/8 [==============================] - 0s 6ms/step - loss: 0.3340 - accuracy: 0.8972 - val_loss: 0.3356 - val_accuracy: 0.8843\n",
      "Epoch 59/100\n",
      "8/8 [==============================] - 0s 6ms/step - loss: 0.3232 - accuracy: 0.9072 - val_loss: 0.3255 - val_accuracy: 0.8932\n",
      "Epoch 60/100\n",
      "8/8 [==============================] - 0s 6ms/step - loss: 0.3722 - accuracy: 0.9014 - val_loss: 0.3208 - val_accuracy: 0.8872\n",
      "Epoch 61/100\n",
      "8/8 [==============================] - 0s 6ms/step - loss: 0.3161 - accuracy: 0.9069 - val_loss: 0.3162 - val_accuracy: 0.8932\n",
      "Epoch 62/100\n",
      "8/8 [==============================] - 0s 7ms/step - loss: 0.3574 - accuracy: 0.9055 - val_loss: 0.3110 - val_accuracy: 0.8991\n",
      "Epoch 63/100\n",
      "8/8 [==============================] - 0s 6ms/step - loss: 0.3308 - accuracy: 0.9034 - val_loss: 0.3033 - val_accuracy: 0.8961\n",
      "Epoch 64/100\n",
      "8/8 [==============================] - 0s 6ms/step - loss: 0.3563 - accuracy: 0.9107 - val_loss: 0.2979 - val_accuracy: 0.8991\n",
      "Epoch 65/100\n",
      "8/8 [==============================] - 0s 6ms/step - loss: 0.3285 - accuracy: 0.9086 - val_loss: 0.2910 - val_accuracy: 0.8991\n",
      "Epoch 66/100\n",
      "8/8 [==============================] - 0s 6ms/step - loss: 0.2980 - accuracy: 0.9204 - val_loss: 0.2894 - val_accuracy: 0.9021\n",
      "Epoch 67/100\n",
      "8/8 [==============================] - 0s 6ms/step - loss: 0.3062 - accuracy: 0.9113 - val_loss: 0.2829 - val_accuracy: 0.9021\n",
      "Epoch 68/100\n",
      "8/8 [==============================] - 0s 6ms/step - loss: 0.3156 - accuracy: 0.9133 - val_loss: 0.2799 - val_accuracy: 0.9080\n",
      "Epoch 69/100\n",
      "8/8 [==============================] - 0s 7ms/step - loss: 0.2919 - accuracy: 0.9133 - val_loss: 0.2768 - val_accuracy: 0.9080\n",
      "Epoch 70/100\n",
      "8/8 [==============================] - 0s 7ms/step - loss: 0.2485 - accuracy: 0.9280 - val_loss: 0.2745 - val_accuracy: 0.9139\n",
      "Epoch 71/100\n",
      "8/8 [==============================] - 0s 7ms/step - loss: 0.2707 - accuracy: 0.9094 - val_loss: 0.2697 - val_accuracy: 0.9110\n",
      "Epoch 72/100\n",
      "8/8 [==============================] - 0s 7ms/step - loss: 0.2758 - accuracy: 0.9217 - val_loss: 0.2626 - val_accuracy: 0.9169\n",
      "Epoch 73/100\n",
      "8/8 [==============================] - 0s 7ms/step - loss: 0.2947 - accuracy: 0.9137 - val_loss: 0.2612 - val_accuracy: 0.9169\n",
      "Epoch 74/100\n",
      "8/8 [==============================] - 0s 7ms/step - loss: 0.3109 - accuracy: 0.9062 - val_loss: 0.2544 - val_accuracy: 0.9139\n",
      "Epoch 75/100\n",
      "8/8 [==============================] - 0s 7ms/step - loss: 0.2523 - accuracy: 0.9356 - val_loss: 0.2538 - val_accuracy: 0.9199\n",
      "Epoch 76/100\n",
      "8/8 [==============================] - 0s 7ms/step - loss: 0.2401 - accuracy: 0.9327 - val_loss: 0.2528 - val_accuracy: 0.9169\n",
      "Epoch 77/100\n",
      "8/8 [==============================] - 0s 8ms/step - loss: 0.2648 - accuracy: 0.9170 - val_loss: 0.2483 - val_accuracy: 0.9169\n",
      "Epoch 78/100\n",
      "8/8 [==============================] - 0s 7ms/step - loss: 0.2440 - accuracy: 0.9284 - val_loss: 0.2452 - val_accuracy: 0.9228\n",
      "Epoch 79/100\n",
      "8/8 [==============================] - 0s 7ms/step - loss: 0.2145 - accuracy: 0.9380 - val_loss: 0.2436 - val_accuracy: 0.9228\n",
      "Epoch 80/100\n",
      "8/8 [==============================] - 0s 20ms/step - loss: 0.2267 - accuracy: 0.9349 - val_loss: 0.2395 - val_accuracy: 0.9228\n",
      "Epoch 81/100\n",
      "8/8 [==============================] - 0s 6ms/step - loss: 0.2245 - accuracy: 0.9312 - val_loss: 0.2378 - val_accuracy: 0.9199\n",
      "Epoch 82/100\n",
      "8/8 [==============================] - 0s 7ms/step - loss: 0.2391 - accuracy: 0.9248 - val_loss: 0.2345 - val_accuracy: 0.9228\n",
      "Epoch 83/100\n",
      "8/8 [==============================] - 0s 6ms/step - loss: 0.2197 - accuracy: 0.9322 - val_loss: 0.2295 - val_accuracy: 0.9199\n",
      "Epoch 84/100\n",
      "8/8 [==============================] - 0s 6ms/step - loss: 0.2426 - accuracy: 0.9286 - val_loss: 0.2288 - val_accuracy: 0.9258\n",
      "Epoch 85/100\n",
      "8/8 [==============================] - 0s 7ms/step - loss: 0.2225 - accuracy: 0.9334 - val_loss: 0.2297 - val_accuracy: 0.9258\n",
      "Epoch 86/100\n",
      "8/8 [==============================] - 0s 7ms/step - loss: 0.2211 - accuracy: 0.9310 - val_loss: 0.2265 - val_accuracy: 0.9258\n",
      "Epoch 87/100\n",
      "8/8 [==============================] - 0s 7ms/step - loss: 0.2206 - accuracy: 0.9353 - val_loss: 0.2229 - val_accuracy: 0.9288\n",
      "Epoch 88/100\n",
      "8/8 [==============================] - 0s 7ms/step - loss: 0.1903 - accuracy: 0.9452 - val_loss: 0.2220 - val_accuracy: 0.9288\n",
      "Epoch 89/100\n",
      "8/8 [==============================] - 0s 6ms/step - loss: 0.2105 - accuracy: 0.9365 - val_loss: 0.2194 - val_accuracy: 0.9347\n",
      "Epoch 90/100\n",
      "8/8 [==============================] - 0s 6ms/step - loss: 0.2174 - accuracy: 0.9330 - val_loss: 0.2165 - val_accuracy: 0.9347\n",
      "Epoch 91/100\n",
      "8/8 [==============================] - 0s 7ms/step - loss: 0.1761 - accuracy: 0.9432 - val_loss: 0.2142 - val_accuracy: 0.9347\n",
      "Epoch 92/100\n",
      "8/8 [==============================] - 0s 7ms/step - loss: 0.1916 - accuracy: 0.9444 - val_loss: 0.2165 - val_accuracy: 0.9288\n",
      "Epoch 93/100\n",
      "8/8 [==============================] - 0s 6ms/step - loss: 0.2116 - accuracy: 0.9374 - val_loss: 0.2112 - val_accuracy: 0.9347\n",
      "Epoch 94/100\n",
      "8/8 [==============================] - 0s 6ms/step - loss: 0.1925 - accuracy: 0.9400 - val_loss: 0.2066 - val_accuracy: 0.9377\n",
      "Epoch 95/100\n",
      "8/8 [==============================] - 0s 7ms/step - loss: 0.1892 - accuracy: 0.9415 - val_loss: 0.2081 - val_accuracy: 0.9377\n",
      "Epoch 96/100\n",
      "8/8 [==============================] - 0s 7ms/step - loss: 0.1742 - accuracy: 0.9438 - val_loss: 0.2054 - val_accuracy: 0.9407\n",
      "Epoch 97/100\n",
      "8/8 [==============================] - 0s 6ms/step - loss: 0.1683 - accuracy: 0.9458 - val_loss: 0.2037 - val_accuracy: 0.9377\n",
      "Epoch 98/100\n",
      "8/8 [==============================] - 0s 6ms/step - loss: 0.2087 - accuracy: 0.9409 - val_loss: 0.2023 - val_accuracy: 0.9377\n",
      "Epoch 99/100\n",
      "8/8 [==============================] - 0s 6ms/step - loss: 0.1850 - accuracy: 0.9410 - val_loss: 0.2023 - val_accuracy: 0.9407\n",
      "Epoch 100/100\n",
      "8/8 [==============================] - 0s 6ms/step - loss: 0.1681 - accuracy: 0.9383 - val_loss: 0.1983 - val_accuracy: 0.9436\n"
     ]
    }
   ],
   "source": [
    "history = model.fit(X_train, y_train, batch_size=128, epochs=100, verbose=1,validation_data=(X_val,y_val))\n"
   ]
  },
  {
   "cell_type": "code",
   "execution_count": 22,
   "metadata": {
    "colab": {
     "base_uri": "https://localhost:8080/",
     "height": 573
    },
    "id": "0bOAW9uAhy83",
    "outputId": "6623b0da-b939-4793-9a4d-33378b513693"
   },
   "outputs": [
    {
     "data": {
      "image/png": "[encoded data removed]",
      "text/plain": [
       "<Figure size 432x288 with 1 Axes>"
      ]
     },
     "metadata": {
      "needs_background": "light",
      "tags": []
     },
     "output_type": "display_data"
    },
    {
     "data": {
      "image/png": "[encoded data removed]",
      "text/plain": [
       "<Figure size 432x288 with 1 Axes>"
      ]
     },
     "metadata": {
      "needs_background": "light",
      "tags": []
     },
     "output_type": "display_data"
    }
   ],
   "source": [
    "import matplotlib.pyplot as plt\n",
    "# summarize history for accuracy\n",
    "plt.plot(history.history['accuracy'])\n",
    "plt.plot(history.history['val_accuracy'])\n",
    "plt.title('model accuracy')\n",
    "plt.ylabel('accuracy')\n",
    "plt.xlabel('epoch')\n",
    "plt.legend(['train', 'validation'], loc='upper left')\n",
    "plt.show()\n",
    "# summarize history for loss\n",
    "plt.plot(history.history['loss'])\n",
    "plt.plot(history.history['val_loss'])\n",
    "plt.title('model loss')\n",
    "plt.ylabel('loss')\n",
    "plt.xlabel('epoch')\n",
    "plt.legend(['train', 'validation'], loc='upper left')\n",
    "plt.show()"
   ]
  },
  {
   "cell_type": "markdown",
   "metadata": {
    "id": "yjHca2uo5LqC"
   },
   "source": [
    "## Analyze the results.\n",
    "\n",
    "1.   Print a summary of the model - use the model's class function **summary()**. How many parameters does the model have? Is a big or a small model?\n",
    "2.   What was the accuracy we obtained at the end of the training? Do you use the training or validation accuracy to answer?\n",
    "3. If you run the model several times, do you always obtain the same accuracy? \n",
    "\n",
    "1, The model have 650 parameters but we only have one layer made of 10 neurons, so it is a small model.\n",
    "\n",
    "2, At the end of the training we have an accuracy of 0.9383 on the training data and an accuracy of 0.9436 which represents the accuracy of the model.\n",
    "\n",
    "3, No, the results will always be different, for example, when I run it again I have an accuracy of 0.9258  instead of 0.9436.\n"
   ]
  },
  {
   "cell_type": "code",
   "execution_count": 23,
   "metadata": {
    "colab": {
     "base_uri": "https://localhost:8080/",
     "height": 0
    },
    "id": "lMCS2N160DfU",
    "outputId": "d236f073-7928-45cd-c108-32bd666fd5de"
   },
   "outputs": [
    {
     "name": "stdout",
     "output_type": "stream",
     "text": [
      "Model: \"sequential_1\"\n",
      "_________________________________________________________________\n",
      "Layer (type)                 Output Shape              Param #   \n",
      "=================================================================\n",
      "dense_1 (Dense)              (None, 10)                650       \n",
      "=================================================================\n",
      "Total params: 650\n",
      "Trainable params: 650\n",
      "Non-trainable params: 0\n",
      "_________________________________________________________________\n",
      "None\n"
     ]
    }
   ],
   "source": [
    "print (model.summary())\n"
   ]
  },
  {
   "cell_type": "markdown",
   "metadata": {
    "id": "ywMqq2PG63il"
   },
   "source": [
    "## print the confusion matrix obtained on the test dataset.\n",
    "\n",
    "Use the **confusion_matrix()** function provided in **sklearn.metrics**."
   ]
  },
  {
   "cell_type": "code",
   "execution_count": 24,
   "metadata": {
    "colab": {
     "base_uri": "https://localhost:8080/",
     "height": 0
    },
    "id": "ncISqliz0Dfc",
    "outputId": "801fbd80-5c87-446b-e714-a6776fd33653"
   },
   "outputs": [
    {
     "name": "stdout",
     "output_type": "stream",
     "text": [
      "[[36  0  1  0  0  0  0  0  0  0]\n",
      " [ 0 47  3  0  0  0  0  0  1  0]\n",
      " [ 0  0 43  2  0  0  0  0  1  0]\n",
      " [ 0  1  0 39  0  0  0  2  1  0]\n",
      " [ 0  1  0  0 45  0  0  0  0  2]\n",
      " [ 0  2  0  2  1 40  0  0  0  1]\n",
      " [ 0  0  0  0  0  0 38  0  1  0]\n",
      " [ 0  4  0  0  3  0  0 45  0  0]\n",
      " [ 0  2  1  0  0  0  0  0 37  1]\n",
      " [ 0  1  0  1  0  3  0  0  4 38]]\n"
     ]
    }
   ],
   "source": [
    " Y_test_pred = model.predict(X_test)\n",
    "from sklearn.metrics import confusion_matrix\n",
    "CM = confusion_matrix (np.argmax(y_test,axis=1), np.argmax(Y_test_pred,axis=1))\n",
    "print (CM)"
   ]
  },
  {
   "cell_type": "markdown",
   "metadata": {
    "id": "7e6fI1O-7L8T"
   },
   "source": [
    "Normalize the confusion matrix to show graphically the prediction probability map.\n",
    "\n",
    "Hint: The confusion matrix needs to be normalized by the counts of each class. Print the counts of elements in each class in the test dataset. Use the numpy function **unique()** to count the elements in y_test."
   ]
  },
  {
   "cell_type": "code",
   "execution_count": 25,
   "metadata": {
    "colab": {
     "base_uri": "https://localhost:8080/",
     "height": 314
    },
    "id": "jO6O1M_30Dff",
    "outputId": "c347d057-7aa4-4afe-cb54-e26f3a7afe5e",
    "scrolled": true
   },
   "outputs": [
    {
     "name": "stdout",
     "output_type": "stream",
     "text": [
      "[37 51 46 43 48 46 39 52 41 47]\n"
     ]
    },
    {
     "data": {
      "text/plain": [
       "Text(0.5, 0, 'predicted label')"
      ]
     },
     "execution_count": 25,
     "metadata": {
      "tags": []
     },
     "output_type": "execute_result"
    },
    {
     "data": {
      "image/png": "[encoded data removed]",
      "text/plain": [
       "<Figure size 432x288 with 2 Axes>"
      ]
     },
     "metadata": {
      "needs_background": "light",
      "tags": []
     },
     "output_type": "display_data"
    }
   ],
   "source": [
    "_,count = np.unique(np.argmax(y_test,axis=1),return_counts=True)\n",
    "print (count)\n",
    "CM = CM/count\n",
    "CM = np.round(1000*CM)/1000\n",
    "plt.figure('confusion matrix')\n",
    "ax = plt.imshow(CM); plt.colorbar()\n",
    "plt.ylabel('true label')\n",
    "plt.xlabel('predicted label')\n"
   ]
  },
  {
   "cell_type": "markdown",
   "metadata": {
    "id": "9Jc5UBdAKrB-"
   },
   "source": [
    "Evaluate the model on the test dataset. What is the accuracy on the test dataset? Use the model's class function **evaluate()**.\n",
    "\n",
    "We have an accuracy of 0.908 on the dataset and a loss of 0.313."
   ]
  },
  {
   "cell_type": "code",
   "execution_count": 26,
   "metadata": {
    "colab": {
     "base_uri": "https://localhost:8080/",
     "height": 0
    },
    "id": "__4U5AaWKpaY",
    "outputId": "8d85520c-058f-464d-d293-3fad6db8a144"
   },
   "outputs": [
    {
     "name": "stdout",
     "output_type": "stream",
     "text": [
      "15/15 [==============================] - 0s 2ms/step - loss: 0.3250 - accuracy: 0.9067\n",
      "The loss and accuracy on the test dataset : 0.324952, 0.906667\n"
     ]
    }
   ],
   "source": [
    "test_loss, test_accuracy = model.evaluate(X_test, y_test)\n",
    "print (\"The loss and accuracy on the test dataset : %f, %f\"%(test_loss,test_accuracy))"
   ]
  },
  {
   "cell_type": "markdown",
   "metadata": {
    "id": "WX2SokwP8tyD"
   },
   "source": [
    "## **Conclusions:**\n",
    "Conclude your report by answering the following questions:\n",
    "\n",
    "1. Did your training converge? \n",
    "2. Was the training successful? \n",
    "3. Do you always obtain the same accuracy when you run the code several times? \n",
    "4. Do all classes always predict with the same accuracy? \n",
    "5. Are there classes where the prediction happens to fail?\n",
    "\n",
    "1, Yes the training converged toward a good accuracy, by plotting the model loss, we can also say that we have no overfitting\n",
    "\n",
    "2, We can say that the training was successful, the test score are pretty good, we have an accuracy of 0.906667 and a model loss of 0.3250.\n",
    "\n",
    "3, No we don't get the same accuracy when we run the code again, this is most likely due to the fact that our algorithm use randomness during learning, ensuring a different model is trained each run. We could resolve this issue by setting a random_state.\n",
    "\n",
    "4, No, some classes have a almost perfect score like for the number 0, but others have a lot have misclassification like the numbers 5,7,9. We can see this with the conufsion matrix.\n",
    "\n",
    "5, The classification never entirely fails, but some works less than others, the worst class here is the 9th, with 9 missclassification."
   ]
  },
  {
   "cell_type": "code",
   "execution_count": null,
   "metadata": {
    "colab": {
     "base_uri": "https://localhost:8080/"
    },
    "id": "BQ95vMYVk364",
    "outputId": "a264728a-24de-4c49-f2cc-13dfd81f2b24"
   },
   "outputs": [],
   "source": []
  },
  {
   "cell_type": "code",
   "execution_count": null,
   "metadata": {},
   "outputs": [],
   "source": []
  }
 ],
 "metadata": {
  "accelerator": "GPU",
  "anaconda-cloud": {},
  "colab": {
   "collapsed_sections": [],
   "name": "AMIOT-TZDAKA-exercise_2_assignment.ipynb",
   "provenance": []
  },
  "kernelspec": {
   "display_name": "Python 3",
   "language": "python",
   "name": "python3"
  },
  "language_info": {
   "codemirror_mode": {
    "name": "ipython",
    "version": 3
   },
   "file_extension": ".py",
   "mimetype": "text/x-python",
   "name": "python",
   "nbconvert_exporter": "python",
   "pygments_lexer": "ipython3",
   "version": "3.8.5"
  }
 },
 "nbformat": 4,
 "nbformat_minor": 1
}
