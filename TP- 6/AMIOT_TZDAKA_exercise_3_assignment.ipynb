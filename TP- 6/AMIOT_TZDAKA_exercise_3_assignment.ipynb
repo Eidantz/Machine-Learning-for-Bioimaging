{
 "cells": [
  {
   "cell_type": "markdown",
   "metadata": {
    "id": "hUDmbiy75N3Z"
   },
   "source": [
    "# **Lab session 1**\n",
    "\n",
    "This is the work of Eidan TZDAKA and Alexandre Amiot\n",
    "\n",
    "## **Exercise 3 : Recognition of hand-written characters from the scikit-learn database using a CNN**\n",
    "\n",
    "Start from the code you developed in exercise 2. Modify it to replace the perceptron by a two-stage CNN. The first stage will contain a unique filter layer and a maxpooling. The second stage will contain a flatten layer and one predicting dense layer."
   ]
  },
  {
   "cell_type": "code",
   "execution_count": 2,
   "metadata": {
    "id": "yuLW6f2H0zcJ"
   },
   "outputs": [],
   "source": [
    "\"\"\"Import necessary libraries\"\"\"\n",
    "import matplotlib.pyplot as plt\n",
    "import numpy as np"
   ]
  },
  {
   "cell_type": "code",
   "execution_count": 3,
   "metadata": {
    "id": "n_l3rd_B0zcT"
   },
   "outputs": [],
   "source": [
    "# Load the digits dataset from scikit-learn\n",
    "# Import datasets and performance metrics\n",
    "from sklearn import datasets\n",
    "digits = datasets.load_digits()"
   ]
  },
  {
   "cell_type": "markdown",
   "metadata": {
    "id": "VWYdMblA07og"
   },
   "source": [
    "The data we are interested in are \n",
    "8x8 images of digits. A CNN can process images directly without having them to be vectorized. Work directly with the **digits.images** from sklearn.datasets .\n"
   ]
  },
  {
   "cell_type": "code",
   "execution_count": 4,
   "metadata": {
    "colab": {
     "base_uri": "https://localhost:8080/",
     "height": 223
    },
    "id": "zwcT8OiY0zcY",
    "outputId": "fcb05d45-2261-4806-e792-ccced7938e90"
   },
   "outputs": [
    {
     "data": {
      "image/png": "[encoded data removed]",
      "text/plain": [
       "<Figure size 432x288 with 10 Axes>"
      ]
     },
     "metadata": {
      "needs_background": "light",
      "tags": []
     },
     "output_type": "display_data"
    }
   ],
   "source": [
    "# The data we are interested in is made of 8x8 images of digits, let's\n",
    "# have a look at the first 10 images, stored in the `images` attribute of the\n",
    "# dataset.  If we were working from image files, we could load them using\n",
    "# matplotlib.pyplot.imread.  Note that each image must have the same size. For these\n",
    "# images, we know which digit they represent: it is given in the 'target' of\n",
    "# the dataset.\n",
    "images_and_labels = list(zip(digits.images, digits.target))\n",
    "for index, (image, label) in enumerate(images_and_labels[:10]):\n",
    "    plt.subplot(2, 5, index + 1)\n",
    "    plt.axis('off')\n",
    "    plt.imshow(image, cmap=plt.cm.gray_r, interpolation='nearest')\n",
    "    plt.title('Training: %i' % label)"
   ]
  },
  {
   "cell_type": "markdown",
   "metadata": {
    "id": "Ehb9u0bhGXOv"
   },
   "source": [
    "What is the size of the images? How many images do we have?\n",
    "\n",
    "We have 1797 images of size 8x8"
   ]
  },
  {
   "cell_type": "code",
   "execution_count": 5,
   "metadata": {
    "colab": {
     "base_uri": "https://localhost:8080/",
     "height": 0
    },
    "id": "sW290nC_0zch",
    "outputId": "51ee8099-a04c-412d-c4d1-92feabfe08b8"
   },
   "outputs": [
    {
     "name": "stdout",
     "output_type": "stream",
     "text": [
      "(1797, 8, 8)\n",
      "[1 2 3 4 5 6 7 8 9]\n"
     ]
    }
   ],
   "source": [
    "print (digits.images.shape)\n",
    "print (digits.target[1:10])"
   ]
  },
  {
   "cell_type": "markdown",
   "metadata": {
    "id": "nP63S0EIGiuW"
   },
   "source": [
    "Again, convert the target into the matrix 'y' in one-hot format. This will allow the predictors output one at a time using the soft-max activation. What is the shape of the 'y' matrix. Use the keras function utils.to_categorical()."
   ]
  },
  {
   "cell_type": "code",
   "execution_count": 6,
   "metadata": {
    "colab": {
     "base_uri": "https://localhost:8080/",
     "height": 0
    },
    "id": "zvptQO9z0zcm",
    "outputId": "0860b67c-ba25-4dcb-93ae-d91d336ccd6c"
   },
   "outputs": [
    {
     "name": "stdout",
     "output_type": "stream",
     "text": [
      "(1797, 10)\n"
     ]
    }
   ],
   "source": [
    "from tensorflow import keras\n",
    "n_classes = len(np.unique(digits.target))\n",
    "y = keras.utils.to_categorical(digits.target, n_classes)\n",
    "print (y.shape)"
   ]
  },
  {
   "cell_type": "markdown",
   "metadata": {
    "id": "nzSfBn0qGwzi"
   },
   "source": [
    "When working with images, keras CNN implicitly assume colour images.\n",
    "\n",
    "The colours come in separate channels. These channels appear as the last dimension of the array.\n",
    "\n",
    "Our hand-written characters are grey-tone images, that is one-channel images. We need to add\n",
    "this dimension to the array to make keras understand that we only have one channel.\n",
    "\n",
    "Print the shape of your array X. You should have a 4-D array with the last dimension equal to 1."
   ]
  },
  {
   "cell_type": "code",
   "execution_count": 7,
   "metadata": {
    "colab": {
     "base_uri": "https://localhost:8080/",
     "height": 0
    },
    "id": "du39fVyo0zcr",
    "outputId": "2ec510f2-771e-44e2-f6b1-55bc4b1b2d52"
   },
   "outputs": [
    {
     "name": "stdout",
     "output_type": "stream",
     "text": [
      "(1797, 8, 8, 1)\n"
     ]
    }
   ],
   "source": [
    "X = np.expand_dims(digits.images,axis=-1)\n",
    "print (X.shape)"
   ]
  },
  {
   "cell_type": "markdown",
   "metadata": {
    "id": "3QWG61q33iVh"
   },
   "source": [
    "## Prepare the train and test dataset.\n",
    "\n",
    "1.   split dataset into test and train dataset.\n",
    "2.   split further the train dataset into train and validation part\n",
    "Use the **keras.model_selection** function **train_test_split()** to separate a dataset. You can choose the percentage of the split, or leave the defaut value."
   ]
  },
  {
   "cell_type": "code",
   "execution_count": 8,
   "metadata": {
    "colab": {
     "base_uri": "https://localhost:8080/",
     "height": 0
    },
    "id": "57Rk3ArdS_Nx",
    "outputId": "533dd3f1-ed5e-4a17-baa3-9e3bae8c5872"
   },
   "outputs": [
    {
     "data": {
      "text/plain": [
       "(1797, 64)"
      ]
     },
     "execution_count": 8,
     "metadata": {
      "tags": []
     },
     "output_type": "execute_result"
    }
   ],
   "source": [
    "digits.data.shape"
   ]
  },
  {
   "cell_type": "code",
   "execution_count": 9,
   "metadata": {
    "id": "ECRVoCxl0zcv"
   },
   "outputs": [],
   "source": [
    "from sklearn.model_selection import train_test_split\n",
    "X_train, X_test, y_train, y_test = train_test_split(X, y)\n",
    "X_train, X_val, y_train, y_val = train_test_split(X_train, y_train)"
   ]
  },
  {
   "cell_type": "code",
   "execution_count": 10,
   "metadata": {
    "colab": {
     "base_uri": "https://localhost:8080/",
     "height": 0
    },
    "id": "uxqLDFDvTrN4",
    "outputId": "a3267ea1-7549-4470-9a89-dadbde054334"
   },
   "outputs": [
    {
     "data": {
      "text/plain": [
       "(1010, 8, 8, 1)"
      ]
     },
     "execution_count": 10,
     "metadata": {
      "tags": []
     },
     "output_type": "execute_result"
    }
   ],
   "source": [
    "X_train.shape"
   ]
  },
  {
   "cell_type": "markdown",
   "metadata": {
    "id": "TTgyr6h44F5a"
   },
   "source": [
    "## create a sequential model\n",
    "\n",
    "1.   The model will the keras sequential model containing a usual two-stage CNN.\n",
    "Instantiate the model using **model=Sequential()**. \n",
    "Add a first convolution layer **Conv2D()**. Specify the number of filters (start with 5), the filter size (say 3x3), the input shape, and the type of activation - choose 'relu'.\n",
    "Add a **MaxPooling2D()** layer to reduce the size.\n",
    "Add a layer to vectorize the data : **Flatten()**.\n",
    "Finally add a **Dense()** layer from **keras.layers**. Specify the number of classes to output. What kind of activation will you use?\n",
    "\n",
    "We will use the relu activation function so that it doesnt activate all the neurons at the same time, they are not activated if the output of the linear transformation is less than 0 and thanks to that it is more computational efficient.\n",
    "\n",
    "2.   Compile the model. Specify the loss. Choose an optimizer and the evaluation metrics to use. Use the class function **compile()** of the sequential model you have created.\n",
    "\n"
   ]
  },
  {
   "cell_type": "code",
   "execution_count": 21,
   "metadata": {
    "id": "SoGTZ35q0zcz"
   },
   "outputs": [],
   "source": [
    "from keras.models import Sequential\n",
    "from keras.layers import Dense, Conv2D, MaxPooling2D, Flatten\n",
    "# create the sequential model\n",
    "model = Sequential()\n",
    "model.add(Conv2D(5,kernel_size=3, input_shape=(8,8,1),activation='relu'))\n",
    "model.add(MaxPooling2D(pool_size=(2, 2), strides=None, padding=\"valid\", data_format=None))\n",
    "model.add(Flatten())\n",
    "model.add(Dense(n_classes, input_shape=(28,28,1),activation='softmax'))\n",
    "\n",
    "\n",
    "# compile the model. Use the categorical crossentropy, the adam optimizer and accuracy\n",
    "# as the evaluation metric\n",
    "model.compile(loss='categorical_crossentropy', optimizer='adam', metrics=['accuracy'])"
   ]
  },
  {
   "cell_type": "markdown",
   "metadata": {
    "id": "92xBrTgg440r"
   },
   "source": [
    "## train the model\n",
    "\n",
    "You can leave the same parameters as before."
   ]
  },
  {
   "cell_type": "code",
   "execution_count": 22,
   "metadata": {
    "colab": {
     "base_uri": "https://localhost:8080/",
     "height": 0
    },
    "id": "jEYEV0Qr0zc4",
    "outputId": "8a9e91f7-a890-46f6-f1f9-a58577052e9f"
   },
   "outputs": [
    {
     "name": "stdout",
     "output_type": "stream",
     "text": [
      "Epoch 1/100\n",
      "8/8 [==============================] - 1s 32ms/step - loss: 12.5485 - accuracy: 0.1020 - val_loss: 11.1362 - val_accuracy: 0.1128\n",
      "Epoch 2/100\n",
      "8/8 [==============================] - 0s 8ms/step - loss: 9.6634 - accuracy: 0.1146 - val_loss: 9.2436 - val_accuracy: 0.0950\n",
      "Epoch 3/100\n",
      "8/8 [==============================] - 0s 7ms/step - loss: 7.9350 - accuracy: 0.0926 - val_loss: 7.7247 - val_accuracy: 0.0682\n",
      "Epoch 4/100\n",
      "8/8 [==============================] - 0s 7ms/step - loss: 6.9333 - accuracy: 0.0806 - val_loss: 6.5110 - val_accuracy: 0.0682\n",
      "Epoch 5/100\n",
      "8/8 [==============================] - 0s 7ms/step - loss: 5.9480 - accuracy: 0.0721 - val_loss: 5.5323 - val_accuracy: 0.0890\n",
      "Epoch 6/100\n",
      "8/8 [==============================] - 0s 7ms/step - loss: 5.0212 - accuracy: 0.0818 - val_loss: 4.7244 - val_accuracy: 0.1157\n",
      "Epoch 7/100\n",
      "8/8 [==============================] - 0s 8ms/step - loss: 4.3627 - accuracy: 0.0980 - val_loss: 4.1001 - val_accuracy: 0.1246\n",
      "Epoch 8/100\n",
      "8/8 [==============================] - 0s 7ms/step - loss: 3.7323 - accuracy: 0.1362 - val_loss: 3.5145 - val_accuracy: 0.1306\n",
      "Epoch 9/100\n",
      "8/8 [==============================] - 0s 7ms/step - loss: 3.2331 - accuracy: 0.1387 - val_loss: 3.0135 - val_accuracy: 0.1573\n",
      "Epoch 10/100\n",
      "8/8 [==============================] - 0s 8ms/step - loss: 2.8066 - accuracy: 0.1575 - val_loss: 2.6591 - val_accuracy: 0.1780\n",
      "Epoch 11/100\n",
      "8/8 [==============================] - 0s 7ms/step - loss: 2.6232 - accuracy: 0.1754 - val_loss: 2.4391 - val_accuracy: 0.2136\n",
      "Epoch 12/100\n",
      "8/8 [==============================] - 0s 8ms/step - loss: 2.4012 - accuracy: 0.2176 - val_loss: 2.2837 - val_accuracy: 0.2493\n",
      "Epoch 13/100\n",
      "8/8 [==============================] - 0s 7ms/step - loss: 2.2838 - accuracy: 0.2557 - val_loss: 2.1600 - val_accuracy: 0.2819\n",
      "Epoch 14/100\n",
      "8/8 [==============================] - 0s 7ms/step - loss: 2.1601 - accuracy: 0.2912 - val_loss: 2.0447 - val_accuracy: 0.3056\n",
      "Epoch 15/100\n",
      "8/8 [==============================] - 0s 9ms/step - loss: 2.0254 - accuracy: 0.3198 - val_loss: 1.9372 - val_accuracy: 0.3501\n",
      "Epoch 16/100\n",
      "8/8 [==============================] - 0s 8ms/step - loss: 1.9540 - accuracy: 0.3499 - val_loss: 1.8348 - val_accuracy: 0.3828\n",
      "Epoch 17/100\n",
      "8/8 [==============================] - 0s 7ms/step - loss: 1.8465 - accuracy: 0.3882 - val_loss: 1.7376 - val_accuracy: 0.4154\n",
      "Epoch 18/100\n",
      "8/8 [==============================] - 0s 7ms/step - loss: 1.7501 - accuracy: 0.4100 - val_loss: 1.6458 - val_accuracy: 0.4540\n",
      "Epoch 19/100\n",
      "8/8 [==============================] - 0s 7ms/step - loss: 1.6432 - accuracy: 0.4583 - val_loss: 1.5613 - val_accuracy: 0.4777\n",
      "Epoch 20/100\n",
      "8/8 [==============================] - 0s 7ms/step - loss: 1.5445 - accuracy: 0.4896 - val_loss: 1.4845 - val_accuracy: 0.5104\n",
      "Epoch 21/100\n",
      "8/8 [==============================] - 0s 7ms/step - loss: 1.4772 - accuracy: 0.5220 - val_loss: 1.4137 - val_accuracy: 0.5312\n",
      "Epoch 22/100\n",
      "8/8 [==============================] - 0s 7ms/step - loss: 1.3910 - accuracy: 0.5440 - val_loss: 1.3440 - val_accuracy: 0.5490\n",
      "Epoch 23/100\n",
      "8/8 [==============================] - 0s 8ms/step - loss: 1.3382 - accuracy: 0.5648 - val_loss: 1.2845 - val_accuracy: 0.5786\n",
      "Epoch 24/100\n",
      "8/8 [==============================] - 0s 9ms/step - loss: 1.2901 - accuracy: 0.5945 - val_loss: 1.2300 - val_accuracy: 0.5935\n",
      "Epoch 25/100\n",
      "8/8 [==============================] - 0s 8ms/step - loss: 1.2116 - accuracy: 0.6219 - val_loss: 1.1782 - val_accuracy: 0.6231\n",
      "Epoch 26/100\n",
      "8/8 [==============================] - 0s 8ms/step - loss: 1.1813 - accuracy: 0.6234 - val_loss: 1.1279 - val_accuracy: 0.6469\n",
      "Epoch 27/100\n",
      "8/8 [==============================] - 0s 9ms/step - loss: 1.1512 - accuracy: 0.6615 - val_loss: 1.0853 - val_accuracy: 0.6617\n",
      "Epoch 28/100\n",
      "8/8 [==============================] - 0s 8ms/step - loss: 1.0435 - accuracy: 0.6775 - val_loss: 1.0413 - val_accuracy: 0.6795\n",
      "Epoch 29/100\n",
      "8/8 [==============================] - 0s 7ms/step - loss: 1.0274 - accuracy: 0.6855 - val_loss: 1.0057 - val_accuracy: 0.6884\n",
      "Epoch 30/100\n",
      "8/8 [==============================] - 0s 8ms/step - loss: 1.0057 - accuracy: 0.7029 - val_loss: 0.9737 - val_accuracy: 0.7062\n",
      "Epoch 31/100\n",
      "8/8 [==============================] - 0s 7ms/step - loss: 0.9457 - accuracy: 0.7157 - val_loss: 0.9371 - val_accuracy: 0.7240\n",
      "Epoch 32/100\n",
      "8/8 [==============================] - 0s 8ms/step - loss: 0.8871 - accuracy: 0.7346 - val_loss: 0.9064 - val_accuracy: 0.7300\n",
      "Epoch 33/100\n",
      "8/8 [==============================] - 0s 8ms/step - loss: 0.8835 - accuracy: 0.7234 - val_loss: 0.8815 - val_accuracy: 0.7359\n",
      "Epoch 34/100\n",
      "8/8 [==============================] - 0s 7ms/step - loss: 0.8962 - accuracy: 0.7348 - val_loss: 0.8576 - val_accuracy: 0.7418\n",
      "Epoch 35/100\n",
      "8/8 [==============================] - 0s 7ms/step - loss: 0.8109 - accuracy: 0.7753 - val_loss: 0.8281 - val_accuracy: 0.7507\n",
      "Epoch 36/100\n",
      "8/8 [==============================] - 0s 7ms/step - loss: 0.7630 - accuracy: 0.7948 - val_loss: 0.8037 - val_accuracy: 0.7567\n",
      "Epoch 37/100\n",
      "8/8 [==============================] - 0s 23ms/step - loss: 0.7399 - accuracy: 0.7978 - val_loss: 0.7855 - val_accuracy: 0.7596\n",
      "Epoch 38/100\n",
      "8/8 [==============================] - 0s 8ms/step - loss: 0.7947 - accuracy: 0.7749 - val_loss: 0.7663 - val_accuracy: 0.7626\n",
      "Epoch 39/100\n",
      "8/8 [==============================] - 0s 7ms/step - loss: 0.7324 - accuracy: 0.8005 - val_loss: 0.7449 - val_accuracy: 0.7715\n",
      "Epoch 40/100\n",
      "8/8 [==============================] - 0s 7ms/step - loss: 0.7261 - accuracy: 0.7976 - val_loss: 0.7280 - val_accuracy: 0.7685\n",
      "Epoch 41/100\n",
      "8/8 [==============================] - 0s 7ms/step - loss: 0.6779 - accuracy: 0.8212 - val_loss: 0.7111 - val_accuracy: 0.7804\n",
      "Epoch 42/100\n",
      "8/8 [==============================] - 0s 8ms/step - loss: 0.6314 - accuracy: 0.8369 - val_loss: 0.6948 - val_accuracy: 0.7834\n",
      "Epoch 43/100\n",
      "8/8 [==============================] - 0s 7ms/step - loss: 0.6606 - accuracy: 0.8136 - val_loss: 0.6770 - val_accuracy: 0.7893\n",
      "Epoch 44/100\n",
      "8/8 [==============================] - 0s 7ms/step - loss: 0.5990 - accuracy: 0.8376 - val_loss: 0.6640 - val_accuracy: 0.7893\n",
      "Epoch 45/100\n",
      "8/8 [==============================] - 0s 8ms/step - loss: 0.6024 - accuracy: 0.8311 - val_loss: 0.6487 - val_accuracy: 0.8012\n",
      "Epoch 46/100\n",
      "8/8 [==============================] - 0s 9ms/step - loss: 0.6008 - accuracy: 0.8358 - val_loss: 0.6374 - val_accuracy: 0.7982\n",
      "Epoch 47/100\n",
      "8/8 [==============================] - 0s 7ms/step - loss: 0.5488 - accuracy: 0.8451 - val_loss: 0.6244 - val_accuracy: 0.8042\n",
      "Epoch 48/100\n",
      "8/8 [==============================] - 0s 8ms/step - loss: 0.5783 - accuracy: 0.8372 - val_loss: 0.6115 - val_accuracy: 0.8071\n",
      "Epoch 49/100\n",
      "8/8 [==============================] - 0s 8ms/step - loss: 0.5707 - accuracy: 0.8409 - val_loss: 0.6002 - val_accuracy: 0.8131\n",
      "Epoch 50/100\n",
      "8/8 [==============================] - 0s 7ms/step - loss: 0.5528 - accuracy: 0.8336 - val_loss: 0.5906 - val_accuracy: 0.8190\n",
      "Epoch 51/100\n",
      "8/8 [==============================] - 0s 7ms/step - loss: 0.5317 - accuracy: 0.8576 - val_loss: 0.5787 - val_accuracy: 0.8190\n",
      "Epoch 52/100\n",
      "8/8 [==============================] - 0s 7ms/step - loss: 0.5344 - accuracy: 0.8462 - val_loss: 0.5694 - val_accuracy: 0.8249\n",
      "Epoch 53/100\n",
      "8/8 [==============================] - 0s 7ms/step - loss: 0.5124 - accuracy: 0.8601 - val_loss: 0.5597 - val_accuracy: 0.8279\n",
      "Epoch 54/100\n",
      "8/8 [==============================] - 0s 8ms/step - loss: 0.5087 - accuracy: 0.8550 - val_loss: 0.5484 - val_accuracy: 0.8427\n",
      "Epoch 55/100\n",
      "8/8 [==============================] - 0s 8ms/step - loss: 0.4643 - accuracy: 0.8702 - val_loss: 0.5404 - val_accuracy: 0.8309\n",
      "Epoch 56/100\n",
      "8/8 [==============================] - 0s 8ms/step - loss: 0.4668 - accuracy: 0.8642 - val_loss: 0.5327 - val_accuracy: 0.8427\n",
      "Epoch 57/100\n",
      "8/8 [==============================] - 0s 7ms/step - loss: 0.4376 - accuracy: 0.8778 - val_loss: 0.5300 - val_accuracy: 0.8487\n",
      "Epoch 58/100\n",
      "8/8 [==============================] - 0s 8ms/step - loss: 0.5029 - accuracy: 0.8566 - val_loss: 0.5152 - val_accuracy: 0.8546\n",
      "Epoch 59/100\n",
      "8/8 [==============================] - 0s 7ms/step - loss: 0.4841 - accuracy: 0.8577 - val_loss: 0.5072 - val_accuracy: 0.8546\n",
      "Epoch 60/100\n",
      "8/8 [==============================] - 0s 8ms/step - loss: 0.4523 - accuracy: 0.8609 - val_loss: 0.5006 - val_accuracy: 0.8457\n",
      "Epoch 61/100\n",
      "8/8 [==============================] - 0s 8ms/step - loss: 0.4104 - accuracy: 0.8781 - val_loss: 0.4931 - val_accuracy: 0.8635\n",
      "Epoch 62/100\n",
      "8/8 [==============================] - 0s 8ms/step - loss: 0.4394 - accuracy: 0.8723 - val_loss: 0.4892 - val_accuracy: 0.8605\n",
      "Epoch 63/100\n",
      "8/8 [==============================] - 0s 8ms/step - loss: 0.4200 - accuracy: 0.8711 - val_loss: 0.4824 - val_accuracy: 0.8605\n",
      "Epoch 64/100\n",
      "8/8 [==============================] - 0s 9ms/step - loss: 0.4069 - accuracy: 0.8833 - val_loss: 0.4736 - val_accuracy: 0.8605\n",
      "Epoch 65/100\n",
      "8/8 [==============================] - 0s 8ms/step - loss: 0.4388 - accuracy: 0.8705 - val_loss: 0.4677 - val_accuracy: 0.8665\n",
      "Epoch 66/100\n",
      "8/8 [==============================] - 0s 9ms/step - loss: 0.4105 - accuracy: 0.8751 - val_loss: 0.4629 - val_accuracy: 0.8694\n",
      "Epoch 67/100\n",
      "8/8 [==============================] - 0s 9ms/step - loss: 0.3992 - accuracy: 0.8802 - val_loss: 0.4569 - val_accuracy: 0.8754\n",
      "Epoch 68/100\n",
      "8/8 [==============================] - 0s 8ms/step - loss: 0.3648 - accuracy: 0.8942 - val_loss: 0.4512 - val_accuracy: 0.8694\n",
      "Epoch 69/100\n",
      "8/8 [==============================] - 0s 9ms/step - loss: 0.3681 - accuracy: 0.8942 - val_loss: 0.4443 - val_accuracy: 0.8754\n",
      "Epoch 70/100\n",
      "8/8 [==============================] - 0s 9ms/step - loss: 0.3612 - accuracy: 0.8992 - val_loss: 0.4393 - val_accuracy: 0.8754\n",
      "Epoch 71/100\n",
      "8/8 [==============================] - 0s 8ms/step - loss: 0.3677 - accuracy: 0.8867 - val_loss: 0.4340 - val_accuracy: 0.8694\n",
      "Epoch 72/100\n",
      "8/8 [==============================] - 0s 8ms/step - loss: 0.3560 - accuracy: 0.8941 - val_loss: 0.4309 - val_accuracy: 0.8843\n",
      "Epoch 73/100\n",
      "8/8 [==============================] - 0s 10ms/step - loss: 0.3743 - accuracy: 0.8980 - val_loss: 0.4231 - val_accuracy: 0.8843\n",
      "Epoch 74/100\n",
      "8/8 [==============================] - 0s 9ms/step - loss: 0.3510 - accuracy: 0.8976 - val_loss: 0.4176 - val_accuracy: 0.8843\n",
      "Epoch 75/100\n",
      "8/8 [==============================] - 0s 9ms/step - loss: 0.3575 - accuracy: 0.8913 - val_loss: 0.4137 - val_accuracy: 0.8783\n",
      "Epoch 76/100\n",
      "8/8 [==============================] - 0s 9ms/step - loss: 0.3561 - accuracy: 0.8888 - val_loss: 0.4088 - val_accuracy: 0.8813\n",
      "Epoch 77/100\n",
      "8/8 [==============================] - 0s 9ms/step - loss: 0.3207 - accuracy: 0.9057 - val_loss: 0.4103 - val_accuracy: 0.8872\n",
      "Epoch 78/100\n",
      "8/8 [==============================] - 0s 8ms/step - loss: 0.3500 - accuracy: 0.8977 - val_loss: 0.4036 - val_accuracy: 0.8843\n",
      "Epoch 79/100\n",
      "8/8 [==============================] - 0s 8ms/step - loss: 0.3314 - accuracy: 0.9012 - val_loss: 0.3956 - val_accuracy: 0.8872\n",
      "Epoch 80/100\n",
      "8/8 [==============================] - 0s 9ms/step - loss: 0.3043 - accuracy: 0.9156 - val_loss: 0.3921 - val_accuracy: 0.8872\n",
      "Epoch 81/100\n",
      "8/8 [==============================] - 0s 8ms/step - loss: 0.2784 - accuracy: 0.9209 - val_loss: 0.3882 - val_accuracy: 0.8872\n",
      "Epoch 82/100\n",
      "8/8 [==============================] - 0s 8ms/step - loss: 0.3264 - accuracy: 0.9032 - val_loss: 0.3872 - val_accuracy: 0.8902\n",
      "Epoch 83/100\n",
      "8/8 [==============================] - 0s 8ms/step - loss: 0.3294 - accuracy: 0.9024 - val_loss: 0.3819 - val_accuracy: 0.8872\n",
      "Epoch 84/100\n",
      "8/8 [==============================] - 0s 9ms/step - loss: 0.2755 - accuracy: 0.9227 - val_loss: 0.3753 - val_accuracy: 0.8961\n",
      "Epoch 85/100\n",
      "8/8 [==============================] - 0s 9ms/step - loss: 0.2734 - accuracy: 0.9278 - val_loss: 0.3706 - val_accuracy: 0.8961\n",
      "Epoch 86/100\n",
      "8/8 [==============================] - 0s 8ms/step - loss: 0.2742 - accuracy: 0.9297 - val_loss: 0.3725 - val_accuracy: 0.8932\n",
      "Epoch 87/100\n",
      "8/8 [==============================] - 0s 9ms/step - loss: 0.2733 - accuracy: 0.9265 - val_loss: 0.3680 - val_accuracy: 0.8932\n",
      "Epoch 88/100\n",
      "8/8 [==============================] - 0s 8ms/step - loss: 0.2849 - accuracy: 0.9229 - val_loss: 0.3624 - val_accuracy: 0.8961\n",
      "Epoch 89/100\n",
      "8/8 [==============================] - 0s 9ms/step - loss: 0.2922 - accuracy: 0.9199 - val_loss: 0.3593 - val_accuracy: 0.8961\n",
      "Epoch 90/100\n",
      "8/8 [==============================] - 0s 9ms/step - loss: 0.2459 - accuracy: 0.9312 - val_loss: 0.3530 - val_accuracy: 0.8991\n",
      "Epoch 91/100\n",
      "8/8 [==============================] - 0s 8ms/step - loss: 0.2895 - accuracy: 0.9137 - val_loss: 0.3539 - val_accuracy: 0.8991\n",
      "Epoch 92/100\n",
      "8/8 [==============================] - 0s 7ms/step - loss: 0.2768 - accuracy: 0.9207 - val_loss: 0.3501 - val_accuracy: 0.9021\n",
      "Epoch 93/100\n",
      "8/8 [==============================] - 0s 7ms/step - loss: 0.2728 - accuracy: 0.9215 - val_loss: 0.3434 - val_accuracy: 0.9021\n",
      "Epoch 94/100\n",
      "8/8 [==============================] - 0s 10ms/step - loss: 0.2729 - accuracy: 0.9236 - val_loss: 0.3430 - val_accuracy: 0.9021\n",
      "Epoch 95/100\n",
      "8/8 [==============================] - 0s 22ms/step - loss: 0.2405 - accuracy: 0.9370 - val_loss: 0.3375 - val_accuracy: 0.9050\n",
      "Epoch 96/100\n",
      "8/8 [==============================] - 0s 7ms/step - loss: 0.2624 - accuracy: 0.9346 - val_loss: 0.3384 - val_accuracy: 0.9050\n",
      "Epoch 97/100\n",
      "8/8 [==============================] - 0s 7ms/step - loss: 0.2616 - accuracy: 0.9311 - val_loss: 0.3343 - val_accuracy: 0.9050\n",
      "Epoch 98/100\n",
      "8/8 [==============================] - 0s 7ms/step - loss: 0.2577 - accuracy: 0.9372 - val_loss: 0.3335 - val_accuracy: 0.9050\n",
      "Epoch 99/100\n",
      "8/8 [==============================] - 0s 7ms/step - loss: 0.2419 - accuracy: 0.9370 - val_loss: 0.3278 - val_accuracy: 0.9110\n",
      "Epoch 100/100\n",
      "8/8 [==============================] - 0s 7ms/step - loss: 0.2465 - accuracy: 0.9324 - val_loss: 0.3251 - val_accuracy: 0.9110\n"
     ]
    }
   ],
   "source": [
    "# train the model\n",
    "history = model.fit(X_train, y_train, batch_size=128, epochs=100, verbose=1, validation_data=(X_val,y_val))"
   ]
  },
  {
   "cell_type": "code",
   "execution_count": 23,
   "metadata": {
    "colab": {
     "base_uri": "https://localhost:8080/",
     "height": 573
    },
    "id": "pMSUndAJo7OZ",
    "outputId": "7e36a03a-33df-4e24-8f74-b561badfae3c"
   },
   "outputs": [
    {
     "data": {
      "image/png": "[encoded data removed]",
      "text/plain": [
       "<Figure size 432x288 with 1 Axes>"
      ]
     },
     "metadata": {
      "needs_background": "light",
      "tags": []
     },
     "output_type": "display_data"
    },
    {
     "data": {
      "image/png": "[encoded data removed]",
      "text/plain": [
       "<Figure size 432x288 with 1 Axes>"
      ]
     },
     "metadata": {
      "needs_background": "light",
      "tags": []
     },
     "output_type": "display_data"
    }
   ],
   "source": [
    "import matplotlib.pyplot as plt\n",
    "# summarize history for accuracy\n",
    "plt.plot(history.history['accuracy'])\n",
    "plt.plot(history.history['val_accuracy'])\n",
    "plt.title('model accuracy')\n",
    "plt.ylabel('accuracy')\n",
    "plt.xlabel('epoch')\n",
    "plt.legend(['train', 'validation'], loc='upper left')\n",
    "plt.show()\n",
    "# summarize history for loss\n",
    "plt.plot(history.history['loss'])\n",
    "plt.plot(history.history['val_loss'])\n",
    "plt.title('model loss')\n",
    "plt.ylabel('loss')\n",
    "plt.xlabel('epoch')\n",
    "plt.legend(['train', 'validation'], loc='upper left')\n",
    "plt.show()"
   ]
  },
  {
   "cell_type": "markdown",
   "metadata": {
    "id": "yjHca2uo5LqC"
   },
   "source": [
    "## Analyze the results.\n",
    "\n",
    "1.   Print a summary of the model - use the model's class function **summary()**. How many parameters does the model have? Is this model bigger or smaller than the previous one?\n",
    "2.   What was the accuracy you obtained at the end of the training? Do you use the training or validation accuracy to answer?\n",
    "3. If you run the model several times, do you always obtain the same accuracy?\n",
    "\n",
    "1, If we have only 5 filters, the model only have 510 parameters which is arround the same size as the previous one (610), this is a small model, if we increase the number of filters, like 64, we now have 6410 parameters, this model is bigger than the ones that we previously used. But in a general manner, it is still a small model.\n",
    "\n",
    "2, At the end of the training we have an accuracy of 0.9324 on the training data and an accuracy of 0.9110 which represents the accuracy of the model. The results are not as good as the previous model. If can increase the accuracy a lot by adding filters, with 64 filters, we have a training accuracy of 1 and a validation accuracy of 0.9885.\n",
    "\n",
    "3, No, every time we run it, the accuracies changes, for example, if we rerun it we can have an accuracy of 0.9145 instead of 0.9110.\n",
    "\n",
    "## Print the model summary."
   ]
  },
  {
   "cell_type": "code",
   "execution_count": 24,
   "metadata": {
    "colab": {
     "base_uri": "https://localhost:8080/",
     "height": 0
    },
    "id": "Aib6WaD20zc7",
    "outputId": "73e13d29-7f7e-4a6a-8867-ae743af9f4b7"
   },
   "outputs": [
    {
     "name": "stdout",
     "output_type": "stream",
     "text": [
      "Model: \"sequential_3\"\n",
      "_________________________________________________________________\n",
      "Layer (type)                 Output Shape              Param #   \n",
      "=================================================================\n",
      "conv2d_2 (Conv2D)            (None, 6, 6, 5)           50        \n",
      "_________________________________________________________________\n",
      "max_pooling2d_2 (MaxPooling2 (None, 3, 3, 5)           0         \n",
      "_________________________________________________________________\n",
      "flatten_2 (Flatten)          (None, 45)                0         \n",
      "_________________________________________________________________\n",
      "dense_2 (Dense)              (None, 10)                460       \n",
      "=================================================================\n",
      "Total params: 510\n",
      "Trainable params: 510\n",
      "Non-trainable params: 0\n",
      "_________________________________________________________________\n",
      "None\n"
     ]
    }
   ],
   "source": [
    "# print the model summary\n",
    "print (model.summary())"
   ]
  },
  {
   "cell_type": "markdown",
   "metadata": {
    "id": "ywMqq2PG63il"
   },
   "source": [
    "## print the confusion matrix obtained on the test dataset.\n",
    "\n",
    "Use the **confusion_matrix()** function provided in **sklearn.metrics**."
   ]
  },
  {
   "cell_type": "code",
   "execution_count": 25,
   "metadata": {
    "colab": {
     "base_uri": "https://localhost:8080/",
     "height": 0
    },
    "id": "ncISqliz0Dfc",
    "outputId": "9b672173-a95d-45a6-d817-d6bcf26ac300"
   },
   "outputs": [
    {
     "name": "stdout",
     "output_type": "stream",
     "text": [
      "[[54  0  0  0  0  0  0  0  1  0]\n",
      " [ 0 50  1  0  3  1  0  0  1  2]\n",
      " [ 0  1 37  0  0  0  0  1  1  0]\n",
      " [ 0  0  1 34  0  0  0  1  1  2]\n",
      " [ 0  0  0  0 46  0  0  0  0  0]\n",
      " [ 1  0  0  1  0 47  0  0  0  0]\n",
      " [ 1  1  0  0  0  1 39  0  2  0]\n",
      " [ 0  0  0  0  0  3  0 36  0  1]\n",
      " [ 0  3  0  0  0  0  0  4 30  0]\n",
      " [ 0  0  0  3  1  0  0  0  0 38]]\n"
     ]
    }
   ],
   "source": [
    "Y_test_pred = model.predict(X_test)\n",
    "from sklearn.metrics import confusion_matrix\n",
    "\n",
    "CM = confusion_matrix (np.argmax(y_test,axis=1), np.argmax(Y_test_pred,axis=1))\n",
    "\n",
    "print (CM)"
   ]
  },
  {
   "cell_type": "markdown",
   "metadata": {
    "id": "7e6fI1O-7L8T"
   },
   "source": [
    "Normalize the confusion matrix to show graphically the prediction probability map.\n",
    "\n",
    "Hint: The confusion matrix needs to be normalized by the counts of each class. Print the counts of elements in each class in the test dataset. Use the numpy function **unique()** to count the elements in y_test."
   ]
  },
  {
   "cell_type": "code",
   "execution_count": 26,
   "metadata": {
    "colab": {
     "base_uri": "https://localhost:8080/",
     "height": 318
    },
    "id": "jO6O1M_30Dff",
    "outputId": "89a4b1cd-8cef-47ae-b324-42f5770a4031",
    "scrolled": true
   },
   "outputs": [
    {
     "name": "stdout",
     "output_type": "stream",
     "text": [
      "[55 58 40 39 46 49 44 40 37 42]\n"
     ]
    },
    {
     "data": {
      "text/plain": [
       "Text(0.5, 0, 'predicted label')"
      ]
     },
     "execution_count": 26,
     "metadata": {
      "tags": []
     },
     "output_type": "execute_result"
    },
    {
     "data": {
      "image/png": "[encoded data removed]",
      "text/plain": [
       "<Figure size 432x288 with 2 Axes>"
      ]
     },
     "metadata": {
      "needs_background": "light",
      "tags": []
     },
     "output_type": "display_data"
    }
   ],
   "source": [
    "_,count = np.unique(np.argmax(y_test,axis=1),return_counts=True)\n",
    "print (count)\n",
    "CM = CM/count\n",
    "CM = np.round(1000*CM)/1000\n",
    "\n",
    "plt.figure('confusion matrix')\n",
    "ax = plt.imshow(CM); plt.colorbar()\n",
    "plt.ylabel('true label')\n",
    "plt.xlabel('predicted label')"
   ]
  },
  {
   "cell_type": "markdown",
   "metadata": {
    "id": "WK0aomhEKa_H"
   },
   "source": [
    "Evaluate the model on the test dataset. What is the accuracy on the test dataset? Use the model's class function **evaluate()**.\n",
    "\n",
    "For 5 filters:\n",
    "The loss and accuracy on the test dataset : 0.290320, 0.913333\n",
    "\n",
    "For 64 filters:\n",
    "The loss and accuracy on the test dataset : 0.049495, 0.984444\n"
   ]
  },
  {
   "cell_type": "code",
   "execution_count": 27,
   "metadata": {
    "colab": {
     "base_uri": "https://localhost:8080/",
     "height": 0
    },
    "id": "pVwr48wnKbab",
    "outputId": "09b9752c-b668-434a-a38c-112fdeef9ee8"
   },
   "outputs": [
    {
     "name": "stdout",
     "output_type": "stream",
     "text": [
      "15/15 [==============================] - 0s 2ms/step - loss: 0.2903 - accuracy: 0.9133\n",
      "The loss and accuracy on the test dataset : 0.290320, 0.913333\n"
     ]
    }
   ],
   "source": [
    "test_loss, test_accuracy = model.evaluate(X_test, y_test)\n",
    "\n",
    "\n",
    "print (\"The loss and accuracy on the test dataset : %f, %f\"%(test_loss, test_accuracy))"
   ]
  },
  {
   "cell_type": "markdown",
   "metadata": {
    "id": "WX2SokwP8tyD"
   },
   "source": [
    "## **Conclusions:**\n",
    "Conclude your report by answering the following questions:\n",
    "\n",
    "1. Did your training converge? \n",
    "2. Was the training successful? \n",
    "3. Try to improve the model. Try adding the number of filters in the filter layer. Does the accuracy improve?\n",
    "4. Could you obtain better results than with the perceptron?\n",
    "\n",
    "1, Yes the training converged toward a good accuracy, by plotting the model loss, we can also say that we have a very small overfitting but we discard it because it doesn't impact the model (too small).\n",
    "\n",
    "2, We can say that the training was successful, the test score are good, we have an accuracy of 0.9133 and a model loss of 0.2903.\n",
    "\n",
    "3, A good way to improve our model is by adding filters, here, we tried with 64 filters, which greatly improved our results. Now we have a 0.984444 accuracy for the test set with a model loss of only 0.049495.\n",
    "\n",
    "4, Yes, the results can be way better than with the perceptron, but only if we set a good number of filters. "
   ]
  },
  {
   "cell_type": "code",
   "execution_count": null,
   "metadata": {
    "id": "N8OOOnF0CbtL"
   },
   "outputs": [],
   "source": [
    "from google.colab import drive\n",
    "base_working_dir = '/content/drive/My Drive/Colab Notebooks/MBE DL course'\n",
    "drive.mount('/content/drive')\n",
    "\n",
    "!sudo apt-get install texlive-xetex texlive-fonts-recommended texlive-generic-recommended\n",
    "\n",
    "!jupyter nbconvert --to pdf  \"drive/My Drive/Colab Notebooks/MBE DL course/exercise_3_assignment.ipynb\" #>/dev/null 2>/dev/null"
   ]
  }
 ],
 "metadata": {
  "accelerator": "GPU",
  "anaconda-cloud": {},
  "colab": {
   "collapsed_sections": [],
   "name": "AMIOT-TZDAKA-exercise_3_assignment.ipynb",
   "provenance": []
  },
  "kernelspec": {
   "display_name": "Python 3",
   "language": "python",
   "name": "python3"
  },
  "language_info": {
   "codemirror_mode": {
    "name": "ipython",
    "version": 3
   },
   "file_extension": ".py",
   "mimetype": "text/x-python",
   "name": "python",
   "nbconvert_exporter": "python",
   "pygments_lexer": "ipython3",
   "version": "3.8.5"
  }
 },
 "nbformat": 4,
 "nbformat_minor": 1
}
